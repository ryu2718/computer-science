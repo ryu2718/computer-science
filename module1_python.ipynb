{
 "cells": [
  {
   "cell_type": "markdown",
   "id": "b0153a8b",
   "metadata": {},
   "source": [
    "### Hello World"
   ]
  },
  {
   "cell_type": "code",
   "execution_count": 1,
   "id": "242abd43",
   "metadata": {},
   "outputs": [],
   "source": [
    "import math"
   ]
  },
  {
   "cell_type": "code",
   "execution_count": 2,
   "id": "cdf4856e",
   "metadata": {},
   "outputs": [],
   "source": [
    "class HelloWorld():\n",
    "    def Hello():\n",
    "        print(\"Hello, World!\")"
   ]
  },
  {
   "cell_type": "code",
   "execution_count": 3,
   "id": "9e64c60c",
   "metadata": {},
   "outputs": [],
   "source": [
    "class HelloGoodbye():\n",
    "    def __init__(self, first, second):\n",
    "        self.first = first\n",
    "        self.second = second\n",
    "    \n",
    "    def Goodbye(self):\n",
    "        print(f\"Hello {self.first} and {self.second}.\")\n",
    "        print(f\"Goodbye {self.second} and {self.first}.\")"
   ]
  },
  {
   "cell_type": "code",
   "execution_count": 4,
   "id": "04d81cbc",
   "metadata": {},
   "outputs": [],
   "source": [
    "class RightTriangle():\n",
    "    def __init__(self, num1, num2, num3):\n",
    "        self.a = num1\n",
    "        self.b = num2\n",
    "        self.c = num3\n",
    "    \n",
    "    def righttriangle(self):\n",
    "        return (self.a > 0 and self.b > 0 and self.c > 0) and (self.a**2 + self.b**2 == self.c**2 or self.a**2 + self.c**2 == self.b**2 or self.b**2 + self.c**2 == self.a**2)"
   ]
  },
  {
   "cell_type": "code",
   "execution_count": 5,
   "id": "77f2795a",
   "metadata": {},
   "outputs": [],
   "source": [
    "class GreatCircle():\n",
    "    def __init__ (self, x1, y1, x2, y2):\n",
    "        self.x1 = math.radians(x1)\n",
    "        self.y1 = math.radians(y1)\n",
    "        self.x2 = math.radians(x2)\n",
    "        self.y2 = math.radians(y2)\n",
    "    \n",
    "    def greatcircle(self):\n",
    "        dis = 2 * 6371 * math.asin(math.sqrt(math.pow(math.sin((self.x2 - self.x1)/2), 2) + math.cos(self.x1)*math.cos(self.x2)*math.pow(math.sin((self.y2 - self.y1)/2), 2)))\n",
    "        return str(dis) + \"kilometers\""
   ]
  },
  {
   "cell_type": "code",
   "execution_count": 6,
   "id": "35c68a0d",
   "metadata": {},
   "outputs": [],
   "source": [
    "class CMYKtoRGB():\n",
    "    def __init__ (self, c, m, y, b):\n",
    "        self.c = c\n",
    "        self.m = m\n",
    "        self.y = y\n",
    "        self.b = b\n",
    "    \n",
    "    def convert(self):\n",
    "        white = 1 - self.b\n",
    "        red = 255 * white * (1 - self.c)\n",
    "        green = 255 * white * (1 - self.m)\n",
    "        blue = 255 * white * (1 - self.y)\n",
    "        print(\"red   = \" + str(round(red)))\n",
    "        print(\"green = \" + str(round(green)))\n",
    "        print(\"blue  = \" + str(round(blue)))"
   ]
  },
  {
   "cell_type": "code",
   "execution_count": null,
   "id": "dfad454c",
   "metadata": {},
   "outputs": [],
   "source": []
  }
 ],
 "metadata": {
  "kernelspec": {
   "display_name": "Python 3 (ipykernel)",
   "language": "python",
   "name": "python3"
  },
  "language_info": {
   "codemirror_mode": {
    "name": "ipython",
    "version": 3
   },
   "file_extension": ".py",
   "mimetype": "text/x-python",
   "name": "python",
   "nbconvert_exporter": "python",
   "pygments_lexer": "ipython3",
   "version": "3.11.4"
  }
 },
 "nbformat": 4,
 "nbformat_minor": 5
}
