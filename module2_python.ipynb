{
 "cells": [
  {
   "cell_type": "markdown",
   "id": "5f4447fd",
   "metadata": {},
   "source": [
    "## Loops and Conditionals"
   ]
  },
  {
   "cell_type": "code",
   "execution_count": 1,
   "id": "a1538a5f",
   "metadata": {},
   "outputs": [],
   "source": [
    "import math\n",
    "import random"
   ]
  },
  {
   "cell_type": "code",
   "execution_count": 2,
   "id": "ce0ee721",
   "metadata": {},
   "outputs": [],
   "source": [
    "class GeneralizedHarmonic():\n",
    "    def __init__(self, num1, num2):\n",
    "        self.num1 = num1\n",
    "        self.num2 = num2\n",
    "    \n",
    "    def calculate(self):\n",
    "        ans = 0\n",
    "        for i in range(self.num1):\n",
    "            ans += 1 / math.pow(i+1, self.num2)\n",
    "        return ans"
   ]
  },
  {
   "cell_type": "code",
   "execution_count": 3,
   "id": "36b1c0a6",
   "metadata": {},
   "outputs": [],
   "source": [
    "class BandMatrix():\n",
    "    def __init__(self, flame, dis):\n",
    "        self.flame = flame\n",
    "        self.dis = dis\n",
    "        \n",
    "    def band(self):\n",
    "        for i in range(self.flame):\n",
    "            s = \"\"\n",
    "            for j in range(self.flame):\n",
    "                if i - self.dis <= j and j <= i + self.dis:\n",
    "                    s += \"* \"\n",
    "                else:\n",
    "                    s += \"0 \"\n",
    "            print(s.rstrip())"
   ]
  },
  {
   "cell_type": "code",
   "execution_count": 4,
   "id": "7d0de9ab",
   "metadata": {},
   "outputs": [],
   "source": [
    "class RandomWalker():\n",
    "    def __init__(self, dis):\n",
    "        self.dis = dis\n",
    "    \n",
    "    def walk(self):\n",
    "        count = 0\n",
    "        x = 0\n",
    "        y = 0\n",
    "        while self.dis != abs(x) + abs(y):\n",
    "            print(f\"({x}, {y})\")\n",
    "            count += 1\n",
    "            rand = random.random()\n",
    "            if rand < 0.25:\n",
    "                x += 1\n",
    "            elif rand < 0.5:\n",
    "                x -= 1\n",
    "            elif rand < 0.75:\n",
    "                y += 1\n",
    "            else:\n",
    "                y -= 1\n",
    "        print(f\"({x}, {y})\")\n",
    "        print(f\"steps = {count}\")"
   ]
  },
  {
   "cell_type": "code",
   "execution_count": 5,
   "id": "3469cb4d",
   "metadata": {},
   "outputs": [],
   "source": [
    "class RandomWalkers():\n",
    "    def __init__(self, dis, trial):\n",
    "        self.dis = dis\n",
    "        self.trial = trial\n",
    "    \n",
    "    def run(self):\n",
    "        s = 0\n",
    "        for _ in range(self.trial):\n",
    "            count = 0\n",
    "            x = 0\n",
    "            y = 0\n",
    "            while self.dis != abs(x) + abs(y):\n",
    "                count += 1\n",
    "                rand = random.random()\n",
    "                if rand < 0.25:\n",
    "                    x += 1\n",
    "                elif rand < 0.5:\n",
    "                    x -= 1\n",
    "                elif rand < 0.75:\n",
    "                    y += 1\n",
    "                else:\n",
    "                    y -= 1\n",
    "            s += count\n",
    "        ans = s / self.trial\n",
    "        print(f\"average number of steps = {ans}\")"
   ]
  },
  {
   "cell_type": "code",
   "execution_count": null,
   "id": "1036f313",
   "metadata": {},
   "outputs": [],
   "source": []
  }
 ],
 "metadata": {
  "kernelspec": {
   "display_name": "Python 3 (ipykernel)",
   "language": "python",
   "name": "python3"
  },
  "language_info": {
   "codemirror_mode": {
    "name": "ipython",
    "version": 3
   },
   "file_extension": ".py",
   "mimetype": "text/x-python",
   "name": "python",
   "nbconvert_exporter": "python",
   "pygments_lexer": "ipython3",
   "version": "3.11.4"
  }
 },
 "nbformat": 4,
 "nbformat_minor": 5
}
